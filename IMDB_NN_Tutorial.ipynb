{
 "cells": [
  {
   "cell_type": "markdown",
   "metadata": {},
   "source": [
    "# IMDB二元分類實作解析\n",
    "\n",
    "## 實作步驟\n",
    "* Step1.載入基本套件與資料\n",
    "* Step2.觀察資料\n",
    "* Step3.資料前處理\n",
    "* Step4.建立模型\n",
    "* Step5.模型訓練\n",
    "* Step6.訓練成效檢視"
   ]
  },
  {
   "cell_type": "markdown",
   "metadata": {},
   "source": [
    "### Step1.載入基本套件與資料"
   ]
  },
  {
   "cell_type": "markdown",
   "metadata": {},
   "source": [
    "keras在使用GPU時，默認會使用全部的記憶體，因此 keras 或 tensorflow 調用GPU時，若出現以下錯誤碼： Blas GEMM launch failed\n",
    "\n",
    "代表GPU被其他程式占用，輸入以下程式即可解決。\n",
    "\n",
    "參考資料\n",
    "* keras指定GPU與限制顯示記憶體用量 https://www.cnblogs.com/wj-1314/p/11846622.html\n",
    "* keras調用GPU報錯的解決方法 https://blog.csdn.net/Leo_Xu06/article/details/82023330\n",
    "* tensorflow中使用tf.ConfigProto()配置Session运行参数&&GPU设备指定 https://blog.csdn.net/dcrmg/article/details/79091941"
   ]
  },
  {
   "cell_type": "code",
   "execution_count": 1,
   "metadata": {},
   "outputs": [
    {
     "name": "stderr",
     "output_type": "stream",
     "text": [
      "Using TensorFlow backend.\n"
     ]
    }
   ],
   "source": [
    "import tensorflow as tf\n",
    "from keras.backend.tensorflow_backend import set_session\n",
    "config = tf.ConfigProto() #TF創建session時，對session進行配置\n",
    "config.gpu_options.allocator_type = 'BFC' #A \"Best-fit with coalescing\" algorithm, simplified from a version of dlmalloc.\n",
    "config.gpu_options.per_process_gpu_memory_fraction = 0.3 #占用0.3的顯卡記憶體\n",
    "config.gpu_options.allow_growth = True #不佔用所有記憶體，按需要分配\n",
    "set_session(tf.Session(config=config)) "
   ]
  },
  {
   "cell_type": "code",
   "execution_count": 2,
   "metadata": {
    "scrolled": true
   },
   "outputs": [],
   "source": [
    "#載入基本套件\n",
    "import numpy as np\n",
    "import pandas as pd\n",
    "import matplotlib.pyplot as plt\n",
    "%matplotlib inline\n",
    "\n",
    "#載入資料\n",
    "from keras.datasets import imdb\n",
    "(x_train, y_train), (x_test, y_test) = imdb.load_data(num_words = 10000) #載入資料集，且限定對應字典中編號 0~9999 的單字載入"
   ]
  },
  {
   "cell_type": "markdown",
   "metadata": {},
   "source": [
    "關於 IMDB 的詳細參數說明 https://keras.io/zh/datasets/"
   ]
  },
  {
   "cell_type": "markdown",
   "metadata": {},
   "source": [
    "### Step2.觀察資料"
   ]
  },
  {
   "cell_type": "code",
   "execution_count": 3,
   "metadata": {},
   "outputs": [
    {
     "name": "stdout",
     "output_type": "stream",
     "text": [
      "字詞最大編號 :  9999\n",
      "\n",
      "\n",
      "x_train數量 :  25000\n",
      "y_train數量 :  25000\n",
      "x_test數量 :  25000\n",
      "y_test數量 :  25000\n",
      "\n",
      "\n",
      "x_train的階數為 :  1\n",
      "x_train的形狀為 :  (25000,)\n",
      "x_train的資料型態為 :  object\n",
      "\n",
      "\n",
      "第一筆訓練資料 [1, 14, 22, 16, 43, 530, 973, 1622, 1385, 65, 458, 4468, 66, 3941, 4, 173, 36, 256, 5, 25, 100, 43, 838, 112, 50, 670, 2, 9, 35, 480, 284, 5, 150, 4, 172, 112, 167, 2, 336, 385, 39, 4, 172, 4536, 1111, 17, 546, 38, 13, 447, 4, 192, 50, 16, 6, 147, 2025, 19, 14, 22, 4, 1920, 4613, 469, 4, 22, 71, 87, 12, 16, 43, 530, 38, 76, 15, 13, 1247, 4, 22, 17, 515, 17, 12, 16, 626, 18, 2, 5, 62, 386, 12, 8, 316, 8, 106, 5, 4, 2223, 5244, 16, 480, 66, 3785, 33, 4, 130, 12, 16, 38, 619, 5, 25, 124, 51, 36, 135, 48, 25, 1415, 33, 6, 22, 12, 215, 28, 77, 52, 5, 14, 407, 16, 82, 2, 8, 4, 107, 117, 5952, 15, 256, 4, 2, 7, 3766, 5, 723, 36, 71, 43, 530, 476, 26, 400, 317, 46, 7, 4, 2, 1029, 13, 104, 88, 4, 381, 15, 297, 98, 32, 2071, 56, 26, 141, 6, 194, 7486, 18, 4, 226, 22, 21, 134, 476, 26, 480, 5, 144, 30, 5535, 18, 51, 36, 28, 224, 92, 25, 104, 4, 226, 65, 16, 38, 1334, 88, 12, 16, 283, 5, 16, 4472, 113, 103, 32, 15, 16, 5345, 19, 178, 32]\n",
      "第一筆對應標籤 1\n"
     ]
    }
   ],
   "source": [
    "#檢查訓練資料中的字詞最大編號是否與設定相符，也就是9999\n",
    "max_index = max([max(sequence) for sequence in x_train])\n",
    "print(\"字詞最大編號 : \",max_index)\n",
    "print(\"\\n\")\n",
    "\n",
    "#查資料個數的指令 len()\n",
    "print(\"x_train數量 : \", len(x_train))\n",
    "print(\"y_train數量 : \", len(y_train))\n",
    "print(\"x_test數量 : \", len(x_test))\n",
    "print(\"y_test數量 : \", len(y_test))\n",
    "print(\"\\n\")\n",
    "\n",
    "#Tensor的3個重要屬性，以train_images為例\n",
    "print(\"x_train的階數為 : \",  x_train.ndim)\n",
    "print(\"x_train的形狀為 : \", x_train.shape)\n",
    "print(\"x_train的資料型態為 : \", x_train.dtype)\n",
    "print(\"\\n\")\n",
    "\n",
    "#檢視第一筆訓練資料\n",
    "print(\"第一筆訓練資料\", x_train[0])\n",
    "#檢視第一筆分類標籤\n",
    "print(\"第一筆對應標籤\", y_train[0])"
   ]
  },
  {
   "cell_type": "code",
   "execution_count": 4,
   "metadata": {},
   "outputs": [
    {
     "name": "stdout",
     "output_type": "stream",
     "text": [
      "? this film was just brilliant casting location scenery story direction everyone's really suited the part they played and you could just imagine being there robert ? is an amazing actor and now the same being director ? father came from the same scottish island as myself so i loved the fact there was a real connection with this film the witty remarks throughout the film were great it was just brilliant so much that i bought the film as soon as it was released for ? and would recommend it to everyone to watch and the fly fishing was amazing really cried at the end it was so sad and you know what they say if you cry at a film it must have been good and this definitely was also ? to the two little boy's that played the ? of norman and paul they were just brilliant children are often left out of the ? list i think because the stars that play them all grown up are such a big profile for the whole film but these children are amazing and should be praised for what they have done don't you think the whole story was so lovely because it was true and was someone's life after all that was shared with us all\n"
     ]
    }
   ],
   "source": [
    "#檢視第一筆訓練資料對應的中文\n",
    "\n",
    "#取得索引字典，會以{\"字\":對應編號}呈現\n",
    "word_index = imdb.get_word_index()\n",
    "\n",
    "#將{\"字\":對應編號}的順序交換，呈現{對應編號:\"字\"}\n",
    "reverse_word_index = dict([(value, key) for (key, value) in word_index.items()])\n",
    "\n",
    "#將第一筆訓練資料解碼。\n",
    "decoded_review = ' '.join([reverse_word_index.get(i - 3, '?') for i in x_train[0]]) #見下方備註\n",
    "print(decoded_review)"
   ]
  },
  {
   "cell_type": "markdown",
   "metadata": {},
   "source": [
    "備註：\n",
    "\n",
    "因為imdb保留0~2數字作為特殊用途，因此索引要調整成 i-3。\n",
    "' '.join 語法的使用說明：https://www.runoob.com/python/att-string-join.html"
   ]
  },
  {
   "cell_type": "markdown",
   "metadata": {},
   "source": [
    "### Step3.資料前處理"
   ]
  },
  {
   "cell_type": "markdown",
   "metadata": {},
   "source": [
    "神經網路能接受輸入資料的類型為張量。將資料轉換成張量的過程，稱\"資料向量化\"。"
   ]
  },
  {
   "cell_type": "code",
   "execution_count": 5,
   "metadata": {},
   "outputs": [],
   "source": [
    "#定義one hot encoder的函式\n",
    "def vectorize_sequences(sequences, dimension=10000):\n",
    "    results = np.zeros((len(sequences), dimension)) #宣告大小為 len(sequences)*dimension 的零矩陣\n",
    "    for i, sequence in enumerate(sequences): #為每個子串列編號\n",
    "        results[i, sequence] = 1.  #將串列中有值的索引設為1\n",
    "    return results\n",
    "\n",
    "x_train_one_hot = vectorize_sequences(x_train)\n",
    "x_test_one_hot = vectorize_sequences(x_test)"
   ]
  },
  {
   "cell_type": "code",
   "execution_count": 6,
   "metadata": {},
   "outputs": [
    {
     "data": {
      "text/plain": [
       "array([0., 1., 1., ..., 0., 0., 0.])"
      ]
     },
     "execution_count": 6,
     "metadata": {},
     "output_type": "execute_result"
    }
   ],
   "source": [
    "x_train_one_hot[0]"
   ]
  },
  {
   "cell_type": "code",
   "execution_count": 7,
   "metadata": {},
   "outputs": [],
   "source": [
    "#將訓練標籤與測試標籤向量化\n",
    "y_train = np.asarray(y_train).astype('float32')\n",
    "y_test = np.asarray(y_test).astype('float32')"
   ]
  },
  {
   "cell_type": "code",
   "execution_count": 8,
   "metadata": {},
   "outputs": [],
   "source": [
    "#將訓練資料再拆分成訓練與驗證\n",
    "x_validation = x_train_one_hot[:5000]\n",
    "x_train_part = x_train_one_hot[5000:]\n",
    "y_validation = y_train[:5000]\n",
    "y_train_part = y_train[5000:]"
   ]
  },
  {
   "cell_type": "markdown",
   "metadata": {},
   "source": [
    "### Step4.建立模型"
   ]
  },
  {
   "cell_type": "code",
   "execution_count": 9,
   "metadata": {},
   "outputs": [
    {
     "name": "stdout",
     "output_type": "stream",
     "text": [
      "WARNING:tensorflow:From C:\\Users\\reclu\\Anaconda3\\envs\\myenv\\lib\\site-packages\\keras\\backend\\tensorflow_backend.py:74: The name tf.get_default_graph is deprecated. Please use tf.compat.v1.get_default_graph instead.\n",
      "\n",
      "WARNING:tensorflow:From C:\\Users\\reclu\\Anaconda3\\envs\\myenv\\lib\\site-packages\\keras\\backend\\tensorflow_backend.py:517: The name tf.placeholder is deprecated. Please use tf.compat.v1.placeholder instead.\n",
      "\n",
      "WARNING:tensorflow:From C:\\Users\\reclu\\Anaconda3\\envs\\myenv\\lib\\site-packages\\keras\\backend\\tensorflow_backend.py:4138: The name tf.random_uniform is deprecated. Please use tf.random.uniform instead.\n",
      "\n",
      "WARNING:tensorflow:From C:\\Users\\reclu\\Anaconda3\\envs\\myenv\\lib\\site-packages\\keras\\backend\\tensorflow_backend.py:133: The name tf.placeholder_with_default is deprecated. Please use tf.compat.v1.placeholder_with_default instead.\n",
      "\n",
      "WARNING:tensorflow:From C:\\Users\\reclu\\Anaconda3\\envs\\myenv\\lib\\site-packages\\keras\\backend\\tensorflow_backend.py:3445: calling dropout (from tensorflow.python.ops.nn_ops) with keep_prob is deprecated and will be removed in a future version.\n",
      "Instructions for updating:\n",
      "Please use `rate` instead of `keep_prob`. Rate should be set to `rate = 1 - keep_prob`.\n",
      "WARNING:tensorflow:From C:\\Users\\reclu\\Anaconda3\\envs\\myenv\\lib\\site-packages\\keras\\optimizers.py:790: The name tf.train.Optimizer is deprecated. Please use tf.compat.v1.train.Optimizer instead.\n",
      "\n",
      "WARNING:tensorflow:From C:\\Users\\reclu\\Anaconda3\\envs\\myenv\\lib\\site-packages\\keras\\backend\\tensorflow_backend.py:3376: The name tf.log is deprecated. Please use tf.math.log instead.\n",
      "\n",
      "WARNING:tensorflow:From C:\\Users\\reclu\\Anaconda3\\envs\\myenv\\lib\\site-packages\\tensorflow_core\\python\\ops\\nn_impl.py:183: where (from tensorflow.python.ops.array_ops) is deprecated and will be removed in a future version.\n",
      "Instructions for updating:\n",
      "Use tf.where in 2.0, which has the same broadcast rule as np.where\n"
     ]
    }
   ],
   "source": [
    "from keras import backend as K\n",
    "from keras.models import Sequential\n",
    "from keras.layers import Conv2D, MaxPooling2D, Dropout, Flatten, Dense, Activation\n",
    "from keras.utils import np_utils\n",
    "\n",
    "#建立模型\n",
    "model = Sequential()\n",
    "model.add(Dense(8, activation='relu', input_shape = (10000,)))\n",
    "model.add(Dense(8, activation='relu'))\n",
    "model.add(Dropout(0.5))\n",
    "model.add(Dense(8, activation='relu'))\n",
    "model.add(Dropout(0.5))\n",
    "model.add(Dense(8, activation='relu'))\n",
    "model.add(Dropout(0.5))\n",
    "model.add(Dense(1, activation='sigmoid'))\n",
    "\n",
    "#編譯模型\n",
    "model.compile(loss = 'binary_crossentropy', optimizer = 'adam', metrics = ['acc'])"
   ]
  },
  {
   "cell_type": "markdown",
   "metadata": {},
   "source": [
    "### Step5.模型訓練"
   ]
  },
  {
   "cell_type": "code",
   "execution_count": 10,
   "metadata": {},
   "outputs": [
    {
     "name": "stdout",
     "output_type": "stream",
     "text": [
      "WARNING:tensorflow:From C:\\Users\\reclu\\Anaconda3\\envs\\myenv\\lib\\site-packages\\keras\\backend\\tensorflow_backend.py:986: The name tf.assign_add is deprecated. Please use tf.compat.v1.assign_add instead.\n",
      "\n",
      "WARNING:tensorflow:From C:\\Users\\reclu\\Anaconda3\\envs\\myenv\\lib\\site-packages\\keras\\backend\\tensorflow_backend.py:973: The name tf.assign is deprecated. Please use tf.compat.v1.assign instead.\n",
      "\n",
      "Train on 20000 samples, validate on 5000 samples\n",
      "Epoch 1/15\n",
      "WARNING:tensorflow:From C:\\Users\\reclu\\Anaconda3\\envs\\myenv\\lib\\site-packages\\keras\\backend\\tensorflow_backend.py:174: The name tf.get_default_session is deprecated. Please use tf.compat.v1.get_default_session instead.\n",
      "\n",
      "WARNING:tensorflow:From C:\\Users\\reclu\\Anaconda3\\envs\\myenv\\lib\\site-packages\\keras\\backend\\tensorflow_backend.py:190: The name tf.global_variables is deprecated. Please use tf.compat.v1.global_variables instead.\n",
      "\n",
      "WARNING:tensorflow:From C:\\Users\\reclu\\Anaconda3\\envs\\myenv\\lib\\site-packages\\keras\\backend\\tensorflow_backend.py:199: The name tf.is_variable_initialized is deprecated. Please use tf.compat.v1.is_variable_initialized instead.\n",
      "\n",
      "WARNING:tensorflow:From C:\\Users\\reclu\\Anaconda3\\envs\\myenv\\lib\\site-packages\\keras\\backend\\tensorflow_backend.py:206: The name tf.variables_initializer is deprecated. Please use tf.compat.v1.variables_initializer instead.\n",
      "\n",
      "20000/20000 [==============================] - 3s 138us/step - loss: 0.6912 - acc: 0.5153 - val_loss: 0.6822 - val_acc: 0.6206\n",
      "Epoch 2/15\n",
      "20000/20000 [==============================] - 2s 100us/step - loss: 0.6746 - acc: 0.5656 - val_loss: 0.6504 - val_acc: 0.7830\n",
      "Epoch 3/15\n",
      "20000/20000 [==============================] - 2s 99us/step - loss: 0.6497 - acc: 0.6248 - val_loss: 0.5997 - val_acc: 0.8476\n",
      "Epoch 4/15\n",
      "20000/20000 [==============================] - 2s 99us/step - loss: 0.6210 - acc: 0.6708 - val_loss: 0.5461 - val_acc: 0.8698\n",
      "Epoch 5/15\n",
      "20000/20000 [==============================] - 2s 100us/step - loss: 0.5822 - acc: 0.7360 - val_loss: 0.4829 - val_acc: 0.8744\n",
      "Epoch 6/15\n",
      "20000/20000 [==============================] - 2s 101us/step - loss: 0.5453 - acc: 0.7654 - val_loss: 0.4359 - val_acc: 0.8824\n",
      "Epoch 7/15\n",
      "20000/20000 [==============================] - 2s 99us/step - loss: 0.5045 - acc: 0.7881 - val_loss: 0.4033 - val_acc: 0.8800\n",
      "Epoch 8/15\n",
      "20000/20000 [==============================] - 2s 99us/step - loss: 0.4641 - acc: 0.8144 - val_loss: 0.3826 - val_acc: 0.8854\n",
      "Epoch 9/15\n",
      "20000/20000 [==============================] - 2s 99us/step - loss: 0.4439 - acc: 0.8258 - val_loss: 0.3716 - val_acc: 0.8826\n",
      "Epoch 10/15\n",
      "20000/20000 [==============================] - 2s 100us/step - loss: 0.4159 - acc: 0.8369 - val_loss: 0.3747 - val_acc: 0.8818\n",
      "Epoch 11/15\n",
      "20000/20000 [==============================] - 2s 100us/step - loss: 0.4047 - acc: 0.8457 - val_loss: 0.3935 - val_acc: 0.8772\n",
      "Epoch 12/15\n",
      "20000/20000 [==============================] - 2s 100us/step - loss: 0.3808 - acc: 0.8546 - val_loss: 0.4044 - val_acc: 0.8814\n",
      "Epoch 13/15\n",
      "20000/20000 [==============================] - 2s 99us/step - loss: 0.3725 - acc: 0.8609 - val_loss: 0.4131 - val_acc: 0.8794\n",
      "Epoch 14/15\n",
      "20000/20000 [==============================] - 2s 100us/step - loss: 0.3562 - acc: 0.8688 - val_loss: 0.4180 - val_acc: 0.8744\n",
      "Epoch 15/15\n",
      "20000/20000 [==============================] - 2s 100us/step - loss: 0.3442 - acc: 0.8757 - val_loss: 0.4413 - val_acc: 0.8784\n"
     ]
    }
   ],
   "source": [
    "#訓練模型\n",
    "history = model.fit(x_train_part, y_train_part, batch_size = 512, epochs = 15, validation_data = (x_validation, y_validation))"
   ]
  },
  {
   "cell_type": "markdown",
   "metadata": {},
   "source": [
    "### Step6.訓練成效檢視"
   ]
  },
  {
   "cell_type": "code",
   "execution_count": 11,
   "metadata": {},
   "outputs": [
    {
     "data": {
      "text/plain": [
       "dict_keys(['val_loss', 'val_acc', 'loss', 'acc'])"
      ]
     },
     "execution_count": 11,
     "metadata": {},
     "output_type": "execute_result"
    }
   ],
   "source": [
    "history_dict = history.history #取得history中的所有物件\n",
    "history_dict.keys()"
   ]
  },
  {
   "cell_type": "code",
   "execution_count": 12,
   "metadata": {},
   "outputs": [
    {
     "data": {
      "image/png": "[encoded data removed]",
      "text/plain": [
       "<Figure size 432x288 with 1 Axes>"
      ]
     },
     "metadata": {
      "needs_background": "light"
     },
     "output_type": "display_data"
    }
   ],
   "source": [
    "# 訓練與驗證分數的可視化\n",
    "loss_values = history_dict['loss'] #取得每輪訓練所得的loss值\n",
    "val_loss_values = history_dict['val_loss'] #取得每輪訓練所得的val_loss值\n",
    "\n",
    "epochs = range(1, len(loss_values)+1) #訓練次數1~20\n",
    "\n",
    "plt.plot(epochs, loss_values, 'r', label='Training Loss') #繪製 training loss 的圖形\n",
    "plt.plot(epochs, val_loss_values, 'b', label='Validation Loss') #繪製 validation loss的圖形\n",
    "plt.title('Training and Validation Loss') #設定圖表名稱\n",
    "plt.xlabel('epochs') #設定x軸名稱為 epochs\n",
    "plt.ylabel('Loss') #設定y軸名稱為 loss\n",
    "plt.legend() #設定圖例\n",
    "plt.show() #顯示圖形"
   ]
  },
  {
   "cell_type": "code",
   "execution_count": 13,
   "metadata": {},
   "outputs": [
    {
     "data": {
      "image/png": "[encoded data removed]",
      "text/plain": [
       "<Figure size 432x288 with 1 Axes>"
      ]
     },
     "metadata": {
      "needs_background": "light"
     },
     "output_type": "display_data"
    }
   ],
   "source": [
    "# plt.clf()  #清除圖表\n",
    "acc_values = history_dict['acc'] #取得每輪訓練所得的loss值\n",
    "val_acc_values = history_dict['val_acc'] #取得每輪訓練所得的val_loss值\n",
    "\n",
    "epochs = range(1, len(loss_values)+1) #訓練次數1~20\n",
    "\n",
    "plt.plot(epochs, acc_values, 'r', label='Training Accuracy') #繪製 training Accuracy 的圖形\n",
    "plt.plot(epochs, val_acc_values, 'b', label='Validation Accuracy') #繪製 validation Accuracy的圖形\n",
    "plt.title('Training and Validation Accuracy') #設定圖表名稱\n",
    "plt.xlabel('epochs') #設定x軸名稱為 epochs\n",
    "plt.ylabel('Accuracy') #設定y軸名稱為 Accuracy\n",
    "plt.legend() #設定圖例\n",
    "plt.show() #顯示圖形"
   ]
  },
  {
   "cell_type": "code",
   "execution_count": 14,
   "metadata": {},
   "outputs": [
    {
     "data": {
      "text/plain": [
       "array([[0.0341469 ],\n",
       "       [0.7538386 ],\n",
       "       [0.00476679],\n",
       "       ...,\n",
       "       [0.00383562],\n",
       "       [0.01013255],\n",
       "       [0.7538386 ]], dtype=float32)"
      ]
     },
     "execution_count": 14,
     "metadata": {},
     "output_type": "execute_result"
    }
   ],
   "source": [
    "#預測\n",
    "model.predict(x_test_one_hot)"
   ]
  },
  {
   "cell_type": "code",
   "execution_count": 15,
   "metadata": {},
   "outputs": [
    {
     "name": "stdout",
     "output_type": "stream",
     "text": [
      "5000/5000 [==============================] - 1s 103us/step\n",
      "validation_loss: 0.44133589544296264\n",
      "validation_accuracy: 0.8784\n"
     ]
    }
   ],
   "source": [
    "validation_loss, validation_accuracy = model.evaluate(x_validation, y_validation)\n",
    "print(\"validation_loss:\",validation_loss)\n",
    "print(\"validation_accuracy:\",validation_accuracy)"
   ]
  },
  {
   "cell_type": "code",
   "execution_count": 16,
   "metadata": {},
   "outputs": [
    {
     "name": "stdout",
     "output_type": "stream",
     "text": [
      "25000/25000 [==============================] - 3s 101us/step\n",
      "Test_loss: 0.4791428091430664\n",
      "Test_accuracy: 0.86496\n"
     ]
    }
   ],
   "source": [
    "Test_loss, Test_accuracy = model.evaluate(x_test_one_hot, y_test)\n",
    "print(\"Test_loss:\",Test_loss)\n",
    "print(\"Test_accuracy:\",Test_accuracy)"
   ]
  },
  {
   "cell_type": "markdown",
   "metadata": {},
   "source": [
    "備註：\n",
    "model.evaluate()會回傳loss value & metrics values。此處的metrics values為accuracy。"
   ]
  },
  {
   "cell_type": "markdown",
   "metadata": {},
   "source": []
  },
  {
   "cell_type": "code",
   "execution_count": null,
   "metadata": {},
   "outputs": [],
   "source": []
  }
 ],
 "metadata": {
  "kernelspec": {
   "display_name": "Python 3",
   "language": "python",
   "name": "python3"
  },
  "language_info": {
   "codemirror_mode": {
    "name": "ipython",
    "version": 3
   },
   "file_extension": ".py",
   "mimetype": "text/x-python",
   "name": "python",
   "nbconvert_exporter": "python",
   "pygments_lexer": "ipython3",
   "version": "3.7.5"
  }
 },
 "nbformat": 4,
 "nbformat_minor": 2
}
