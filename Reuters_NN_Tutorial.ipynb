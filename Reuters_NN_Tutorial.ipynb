{
 "cells": [
  {
   "cell_type": "markdown",
   "metadata": {},
   "source": [
    "# Reuters_Tutorial多元分類實作解析\n",
    "\n",
    "## 實作步驟\n",
    "* Step1.載入基本套件與資料\n",
    "* Step2.觀察資料\n",
    "* Step3.資料前處理\n",
    "* Step4.建立模型\n",
    "* Step5.模型訓練\n",
    "* Step6.訓練成效檢視"
   ]
  },
  {
   "cell_type": "markdown",
   "metadata": {},
   "source": [
    "### Step1.載入基本套件與資料"
   ]
  },
  {
   "cell_type": "markdown",
   "metadata": {},
   "source": [
    "keras在使用GPU時，默認會使用全部的記憶體，因此 keras 或 tensorflow 調用GPU時，若出現以下錯誤碼： Blas GEMM launch failed\n",
    "\n",
    "代表GPU被其他程式占用，輸入以下程式即可解決。\n",
    "\n",
    "參考資料\n",
    "* keras指定GPU與限制顯示記憶體用量 https://www.cnblogs.com/wj-1314/p/11846622.html\n",
    "* keras調用GPU報錯的解決方法 https://blog.csdn.net/Leo_Xu06/article/details/82023330\n",
    "* tensorflow中使用tf.ConfigProto()配置Session运行参数&&GPU设备指定 https://blog.csdn.net/dcrmg/article/details/79091941"
   ]
  },
  {
   "cell_type": "code",
   "execution_count": 1,
   "metadata": {},
   "outputs": [
    {
     "name": "stderr",
     "output_type": "stream",
     "text": [
      "Using TensorFlow backend.\n"
     ]
    }
   ],
   "source": [
    "import tensorflow as tf\n",
    "from keras.backend.tensorflow_backend import set_session\n",
    "config = tf.ConfigProto() #TF創建session時，對session進行配置\n",
    "config.gpu_options.allocator_type = 'BFC' #A \"Best-fit with coalescing\" algorithm, simplified from a version of dlmalloc.\n",
    "config.gpu_options.per_process_gpu_memory_fraction = 0.3 #占用0.3的顯卡記憶體\n",
    "config.gpu_options.allow_growth = True #不佔用所有記憶體，按需要分配\n",
    "set_session(tf.Session(config=config)) "
   ]
  },
  {
   "cell_type": "code",
   "execution_count": 2,
   "metadata": {},
   "outputs": [],
   "source": [
    "#載入基本套件\n",
    "import numpy as np\n",
    "import pandas as pd\n",
    "import matplotlib.pyplot as plt\n",
    "%matplotlib inline\n",
    "\n",
    "#載入資料\n",
    "from keras.datasets import reuters\n",
    "(x_train, y_train), (x_test, y_test) = reuters.load_data(num_words = 10000) #載入資料集，且限定對應字典中編號 0~9999 的單字載入"
   ]
  },
  {
   "cell_type": "markdown",
   "metadata": {},
   "source": [
    "### Step2.觀察資料"
   ]
  },
  {
   "cell_type": "code",
   "execution_count": 3,
   "metadata": {},
   "outputs": [
    {
     "name": "stdout",
     "output_type": "stream",
     "text": [
      "字詞最大編號 :  9999\n",
      "\n",
      "\n",
      "x_train數量 :  8982\n",
      "y_train數量 :  8982\n",
      "x_test數量 :  2246\n",
      "y_test數量 :  2246\n",
      "\n",
      "\n",
      "x_train的階數為 :  1\n",
      "x_train的形狀為 :  (8982,)\n",
      "x_train的資料型態為 :  object\n",
      "\n",
      "\n",
      "第一筆訓練資料 [1, 2, 2, 8, 43, 10, 447, 5, 25, 207, 270, 5, 3095, 111, 16, 369, 186, 90, 67, 7, 89, 5, 19, 102, 6, 19, 124, 15, 90, 67, 84, 22, 482, 26, 7, 48, 4, 49, 8, 864, 39, 209, 154, 6, 151, 6, 83, 11, 15, 22, 155, 11, 15, 7, 48, 9, 4579, 1005, 504, 6, 258, 6, 272, 11, 15, 22, 134, 44, 11, 15, 16, 8, 197, 1245, 90, 67, 52, 29, 209, 30, 32, 132, 6, 109, 15, 17, 12]\n",
      "第一筆對應標籤 3\n"
     ]
    }
   ],
   "source": [
    "#檢查訓練資料中的字詞最大編號是否與設定相符，也就是9999\n",
    "max_index = max([max(sequence) for sequence in x_train])\n",
    "print(\"字詞最大編號 : \",max_index)\n",
    "print(\"\\n\")\n",
    "\n",
    "#查資料個數的指令 len()\n",
    "print(\"x_train數量 : \", len(x_train))\n",
    "print(\"y_train數量 : \", len(y_train))\n",
    "print(\"x_test數量 : \", len(x_test))\n",
    "print(\"y_test數量 : \", len(y_test))\n",
    "print(\"\\n\")\n",
    "\n",
    "#Tensor的3個重要屬性，以train_images為例\n",
    "print(\"x_train的階數為 : \",  x_train.ndim)\n",
    "print(\"x_train的形狀為 : \", x_train.shape)\n",
    "print(\"x_train的資料型態為 : \", x_train.dtype)\n",
    "print(\"\\n\")\n",
    "\n",
    "#檢視第一筆訓練資料\n",
    "print(\"第一筆訓練資料\", x_train[0])\n",
    "#檢視第一筆分類標籤\n",
    "print(\"第一筆對應標籤\", y_train[0])"
   ]
  },
  {
   "cell_type": "code",
   "execution_count": 4,
   "metadata": {},
   "outputs": [
    {
     "name": "stdout",
     "output_type": "stream",
     "text": [
      "? ? ? said as a result of its december acquisition of space co it expects earnings per share in 1987 of 1 15 to 1 30 dlrs per share up from 70 cts in 1986 the company said pretax net should rise to nine to 10 mln dlrs from six mln dlrs in 1986 and rental operation revenues to 19 to 22 mln dlrs from 12 5 mln dlrs it said cash flow per share this year should be 2 50 to three dlrs reuter 3\n"
     ]
    }
   ],
   "source": [
    "#檢視第一筆訓練資料對應的中文\n",
    "\n",
    "#取得索引字典，會以{\"字\":對應編號}呈現\n",
    "word_index = reuters.get_word_index()\n",
    "\n",
    "#將{\"字\":對應編號}的順序交換，呈現{對應編號:\"字\"}\n",
    "reverse_word_index = dict([(value, key) for (key, value) in word_index.items()])\n",
    "\n",
    "#將第一筆訓練資料解碼。\n",
    "decoded_review = ' '.join([reverse_word_index.get(i - 3, '?') for i in x_train[0]])\n",
    "print(decoded_review)\n",
    "\n",
    "\n",
    "### 因為imdb保留0~2數字作為特殊用途，因此索引要調整成 i-3。\n",
    "### ' '.join 語法的使用說明：https://www.runoob.com/python/att-string-join.html"
   ]
  },
  {
   "cell_type": "markdown",
   "metadata": {},
   "source": [
    "### Step3.資料前處理"
   ]
  },
  {
   "cell_type": "code",
   "execution_count": 5,
   "metadata": {},
   "outputs": [],
   "source": [
    "#定義one hot encoder的函式\n",
    "def vectorize_sequences(sequences, dimension=10000):\n",
    "    results = np.zeros((len(sequences), dimension)) #宣告大小為 len(sequences)*dimension 的零矩陣\n",
    "    for i, sequence in enumerate(sequences): #為每個子串列編號\n",
    "        results[i, sequence] = 1.  #將串列中有值的索引設為1\n",
    "    return results\n",
    "\n",
    "x_train_one_hot = vectorize_sequences(x_train)\n",
    "x_test_one_hot = vectorize_sequences(x_test)"
   ]
  },
  {
   "cell_type": "code",
   "execution_count": 6,
   "metadata": {},
   "outputs": [
    {
     "data": {
      "text/plain": [
       "array([0., 1., 1., ..., 0., 0., 0.])"
      ]
     },
     "execution_count": 6,
     "metadata": {},
     "output_type": "execute_result"
    }
   ],
   "source": [
    "x_train_one_hot[0]"
   ]
  },
  {
   "cell_type": "code",
   "execution_count": 7,
   "metadata": {},
   "outputs": [],
   "source": [
    "from keras.utils.np_utils import to_categorical\n",
    "\n",
    "y_train_one_hot = to_categorical(y_train)\n",
    "y_test_one_hot = to_categorical(y_test)"
   ]
  },
  {
   "cell_type": "code",
   "execution_count": 8,
   "metadata": {},
   "outputs": [],
   "source": [
    "#將訓練資料再拆分成訓練與驗證\n",
    "x_validation = x_train_one_hot[:500]\n",
    "x_train_part = x_train_one_hot[500:]\n",
    "y_validation = y_train_one_hot[:500]\n",
    "y_train_part =y_train_one_hot[500:]"
   ]
  },
  {
   "cell_type": "markdown",
   "metadata": {},
   "source": [
    "### Step4.建立模型"
   ]
  },
  {
   "cell_type": "code",
   "execution_count": 9,
   "metadata": {},
   "outputs": [
    {
     "name": "stdout",
     "output_type": "stream",
     "text": [
      "WARNING:tensorflow:From C:\\Users\\reclu\\Anaconda3\\envs\\myenv\\lib\\site-packages\\keras\\backend\\tensorflow_backend.py:74: The name tf.get_default_graph is deprecated. Please use tf.compat.v1.get_default_graph instead.\n",
      "\n",
      "WARNING:tensorflow:From C:\\Users\\reclu\\Anaconda3\\envs\\myenv\\lib\\site-packages\\keras\\backend\\tensorflow_backend.py:517: The name tf.placeholder is deprecated. Please use tf.compat.v1.placeholder instead.\n",
      "\n",
      "WARNING:tensorflow:From C:\\Users\\reclu\\Anaconda3\\envs\\myenv\\lib\\site-packages\\keras\\backend\\tensorflow_backend.py:4138: The name tf.random_uniform is deprecated. Please use tf.random.uniform instead.\n",
      "\n",
      "WARNING:tensorflow:From C:\\Users\\reclu\\Anaconda3\\envs\\myenv\\lib\\site-packages\\keras\\optimizers.py:790: The name tf.train.Optimizer is deprecated. Please use tf.compat.v1.train.Optimizer instead.\n",
      "\n",
      "WARNING:tensorflow:From C:\\Users\\reclu\\Anaconda3\\envs\\myenv\\lib\\site-packages\\keras\\backend\\tensorflow_backend.py:3295: The name tf.log is deprecated. Please use tf.math.log instead.\n",
      "\n"
     ]
    }
   ],
   "source": [
    "from keras import backend as K\n",
    "from keras.models import Sequential\n",
    "from keras.layers import Conv2D, MaxPooling2D, Dropout, Flatten, Dense, Activation\n",
    "from keras.utils import np_utils\n",
    "\n",
    "#建立模型\n",
    "model = Sequential()\n",
    "model.add(Dense(32, activation='relu', input_shape = (10000,)))\n",
    "model.add(Dense(32, activation='relu'))\n",
    "model.add(Dense(32, activation='relu'))\n",
    "model.add(Dense(32, activation='relu'))\n",
    "model.add(Dense(32, activation='relu'))\n",
    "model.add(Dense(46, activation='softmax'))\n",
    "\n",
    "#編譯模型\n",
    "model.compile(loss = 'categorical_crossentropy', optimizer = 'adam', metrics = ['acc'])"
   ]
  },
  {
   "cell_type": "markdown",
   "metadata": {},
   "source": [
    "### Step5.模型訓練"
   ]
  },
  {
   "cell_type": "code",
   "execution_count": 10,
   "metadata": {},
   "outputs": [
    {
     "name": "stdout",
     "output_type": "stream",
     "text": [
      "WARNING:tensorflow:From C:\\Users\\reclu\\Anaconda3\\envs\\myenv\\lib\\site-packages\\tensorflow_core\\python\\ops\\math_grad.py:1424: where (from tensorflow.python.ops.array_ops) is deprecated and will be removed in a future version.\n",
      "Instructions for updating:\n",
      "Use tf.where in 2.0, which has the same broadcast rule as np.where\n",
      "WARNING:tensorflow:From C:\\Users\\reclu\\Anaconda3\\envs\\myenv\\lib\\site-packages\\keras\\backend\\tensorflow_backend.py:986: The name tf.assign_add is deprecated. Please use tf.compat.v1.assign_add instead.\n",
      "\n",
      "WARNING:tensorflow:From C:\\Users\\reclu\\Anaconda3\\envs\\myenv\\lib\\site-packages\\keras\\backend\\tensorflow_backend.py:973: The name tf.assign is deprecated. Please use tf.compat.v1.assign instead.\n",
      "\n",
      "Train on 8482 samples, validate on 500 samples\n",
      "Epoch 1/10\n",
      "WARNING:tensorflow:From C:\\Users\\reclu\\Anaconda3\\envs\\myenv\\lib\\site-packages\\keras\\backend\\tensorflow_backend.py:174: The name tf.get_default_session is deprecated. Please use tf.compat.v1.get_default_session instead.\n",
      "\n",
      "WARNING:tensorflow:From C:\\Users\\reclu\\Anaconda3\\envs\\myenv\\lib\\site-packages\\keras\\backend\\tensorflow_backend.py:190: The name tf.global_variables is deprecated. Please use tf.compat.v1.global_variables instead.\n",
      "\n",
      "WARNING:tensorflow:From C:\\Users\\reclu\\Anaconda3\\envs\\myenv\\lib\\site-packages\\keras\\backend\\tensorflow_backend.py:199: The name tf.is_variable_initialized is deprecated. Please use tf.compat.v1.is_variable_initialized instead.\n",
      "\n",
      "WARNING:tensorflow:From C:\\Users\\reclu\\Anaconda3\\envs\\myenv\\lib\\site-packages\\keras\\backend\\tensorflow_backend.py:206: The name tf.variables_initializer is deprecated. Please use tf.compat.v1.variables_initializer instead.\n",
      "\n",
      "8482/8482 [==============================] - 1s 160us/step - loss: 3.5718 - acc: 0.3194 - val_loss: 3.0629 - val_acc: 0.3480\n",
      "Epoch 2/10\n",
      "8482/8482 [==============================] - 1s 88us/step - loss: 2.5437 - acc: 0.4251 - val_loss: 1.9719 - val_acc: 0.5580\n",
      "Epoch 3/10\n",
      "8482/8482 [==============================] - 1s 86us/step - loss: 1.8605 - acc: 0.5382 - val_loss: 1.6257 - val_acc: 0.5760\n",
      "Epoch 4/10\n",
      "8482/8482 [==============================] - 1s 86us/step - loss: 1.5691 - acc: 0.5834 - val_loss: 1.4708 - val_acc: 0.6620\n",
      "Epoch 5/10\n",
      "8482/8482 [==============================] - 1s 86us/step - loss: 1.3448 - acc: 0.6941 - val_loss: 1.3880 - val_acc: 0.7000\n",
      "Epoch 6/10\n",
      "8482/8482 [==============================] - 1s 86us/step - loss: 1.1703 - acc: 0.7304 - val_loss: 1.3170 - val_acc: 0.7020\n",
      "Epoch 7/10\n",
      "8482/8482 [==============================] - 1s 86us/step - loss: 1.0266 - acc: 0.7469 - val_loss: 1.2708 - val_acc: 0.7100\n",
      "Epoch 8/10\n",
      "8482/8482 [==============================] - 1s 86us/step - loss: 0.9076 - acc: 0.7663 - val_loss: 1.2489 - val_acc: 0.7200\n",
      "Epoch 9/10\n",
      "8482/8482 [==============================] - 1s 85us/step - loss: 0.7977 - acc: 0.7899 - val_loss: 1.2308 - val_acc: 0.7440\n",
      "Epoch 10/10\n",
      "8482/8482 [==============================] - 1s 86us/step - loss: 0.6945 - acc: 0.8170 - val_loss: 1.2357 - val_acc: 0.7500\n"
     ]
    }
   ],
   "source": [
    "#訓練模型\n",
    "history = model.fit(x_train_part, y_train_part, batch_size = 512, epochs = 10, validation_data = (x_validation, y_validation))"
   ]
  },
  {
   "cell_type": "code",
   "execution_count": 11,
   "metadata": {},
   "outputs": [
    {
     "name": "stdout",
     "output_type": "stream",
     "text": [
      "2246/2246 [==============================] - 0s 117us/step\n"
     ]
    },
    {
     "data": {
      "text/plain": [
       "[1.3960637298950846, 0.705253784505788]"
      ]
     },
     "execution_count": 11,
     "metadata": {},
     "output_type": "execute_result"
    }
   ],
   "source": [
    "result = model.evaluate(x_test_one_hot, y_test_one_hot)\n",
    "result"
   ]
  },
  {
   "cell_type": "markdown",
   "metadata": {},
   "source": [
    "### Step6.訓練成效檢視"
   ]
  },
  {
   "cell_type": "code",
   "execution_count": 12,
   "metadata": {},
   "outputs": [
    {
     "data": {
      "text/plain": [
       "dict_keys(['val_loss', 'val_acc', 'loss', 'acc'])"
      ]
     },
     "execution_count": 12,
     "metadata": {},
     "output_type": "execute_result"
    }
   ],
   "source": [
    "history_dict = history.history #取得history中的所有物件\n",
    "history_dict.keys()"
   ]
  },
  {
   "cell_type": "code",
   "execution_count": 13,
   "metadata": {},
   "outputs": [
    {
     "data": {
      "image/png": "[encoded data removed]",
      "text/plain": [
       "<Figure size 432x288 with 1 Axes>"
      ]
     },
     "metadata": {
      "needs_background": "light"
     },
     "output_type": "display_data"
    }
   ],
   "source": [
    "# 訓練與驗證分數的可視化\n",
    "loss_values = history_dict['loss'] #取得每輪訓練所得的loss值\n",
    "val_loss_values = history_dict['val_loss'] #取得每輪訓練所得的val_loss值\n",
    "\n",
    "epochs = range(1, len(loss_values)+1) #訓練次數1~20\n",
    "\n",
    "plt.plot(epochs, loss_values, 'r', label='Training Loss') #繪製 training loss 的圖形\n",
    "plt.plot(epochs, val_loss_values, 'b', label='Validation Loss') #繪製 validation loss的圖形\n",
    "plt.title('Training and Validation Loss') #設定圖表名稱\n",
    "plt.xlabel('epochs') #設定x軸名稱為 epochs\n",
    "plt.ylabel('Loss') #設定y軸名稱為 loss\n",
    "plt.legend() #設定圖例\n",
    "plt.show() #顯示圖形"
   ]
  },
  {
   "cell_type": "code",
   "execution_count": 14,
   "metadata": {},
   "outputs": [
    {
     "data": {
      "image/png": "[encoded data removed]",
      "text/plain": [
       "<Figure size 432x288 with 1 Axes>"
      ]
     },
     "metadata": {
      "needs_background": "light"
     },
     "output_type": "display_data"
    }
   ],
   "source": [
    "# plt.clf()  #清除圖表\n",
    "acc_values = history_dict['acc'] #取得每輪訓練所得的loss值\n",
    "val_acc_values = history_dict['val_acc'] #取得每輪訓練所得的val_loss值\n",
    "\n",
    "epochs = range(1, len(loss_values)+1) #訓練次數1~20\n",
    "\n",
    "plt.plot(epochs, acc_values, 'r', label='Training Accuracy') #繪製 training Accuracy 的圖形\n",
    "plt.plot(epochs, val_acc_values, 'b', label='Validation Accuracy') #繪製 validation Accuracy的圖形\n",
    "plt.title('Training and Validation Accuracy') #設定圖表名稱\n",
    "plt.xlabel('epochs') #設定x軸名稱為 epochs\n",
    "plt.ylabel('Accuracy') #設定y軸名稱為 Accuracy\n",
    "plt.legend() #設定圖例\n",
    "plt.show() #顯示圖形"
   ]
  },
  {
   "cell_type": "code",
   "execution_count": 15,
   "metadata": {},
   "outputs": [
    {
     "name": "stdout",
     "output_type": "stream",
     "text": [
      "prediction[0].shape: (46,)\n",
      "np.sum(prediction[0]): 1.0000001\n",
      "np.argmax(prediction[0]): 3\n"
     ]
    }
   ],
   "source": [
    "prediction = model.predict(x_test_one_hot)\n",
    "print('prediction[0].shape:',prediction[0].shape) #每個預測都是長度為46的向量\n",
    "print('np.sum(prediction[0]):',np.sum(prediction[0])) #係數總和為1\n",
    "print('np.argmax(prediction[0]):',np.argmax(prediction[0])) #最高機率類別"
   ]
  },
  {
   "cell_type": "code",
   "execution_count": 16,
   "metadata": {},
   "outputs": [
    {
     "name": "stdout",
     "output_type": "stream",
     "text": [
      "500/500 [==============================] - 0s 112us/step\n",
      "validation_loss: 1.235706974029541\n",
      "validation_accuracy: 0.7499999990463256\n",
      "2246/2246 [==============================] - 0s 105us/step\n",
      "Test_loss: 1.3960637298950846\n",
      "Test_accuracy: 0.705253784505788\n"
     ]
    }
   ],
   "source": [
    "validation_loss, validation_accuracy = model.evaluate(x_validation, y_validation)\n",
    "print(\"validation_loss:\",validation_loss)\n",
    "print(\"validation_accuracy:\",validation_accuracy)\n",
    "\n",
    "Test_loss, Test_accuracy = model.evaluate(x_test_one_hot,y_test_one_hot)\n",
    "print(\"Test_loss:\",Test_loss)\n",
    "print(\"Test_accuracy:\",Test_accuracy)"
   ]
  },
  {
   "cell_type": "code",
   "execution_count": null,
   "metadata": {},
   "outputs": [],
   "source": []
  }
 ],
 "metadata": {
  "kernelspec": {
   "display_name": "Python 3",
   "language": "python",
   "name": "python3"
  },
  "language_info": {
   "codemirror_mode": {
    "name": "ipython",
    "version": 3
   },
   "file_extension": ".py",
   "mimetype": "text/x-python",
   "name": "python",
   "nbconvert_exporter": "python",
   "pygments_lexer": "ipython3",
   "version": "3.7.5"
  }
 },
 "nbformat": 4,
 "nbformat_minor": 2
}
